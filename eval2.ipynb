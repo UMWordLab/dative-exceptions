{
 "cells": [
  {
   "cell_type": "code",
   "execution_count": 2,
   "metadata": {},
   "outputs": [],
   "source": [
    "from minicons import scorer\n",
    "import torch\n",
    "import numpy as np\n",
    "import pandas as pd\n",
    "import matplotlib.pyplot as plt"
   ]
  },
  {
   "cell_type": "code",
   "execution_count": 110,
   "metadata": {},
   "outputs": [],
   "source": [
    "target_model = 'gpt2xl'\n",
    "checkpoint = '166800'"
   ]
  },
  {
   "cell_type": "code",
   "execution_count": 111,
   "metadata": {},
   "outputs": [],
   "source": [
    "# model = scorer.IncrementalLMScorer('gpt2-large', 'cuda')\n",
    "if target_model == 'gpt2':\n",
    "    model_name = target_model\n",
    "elif target_model == 'gpt2m':\n",
    "    model_name = 'gpt2-medium'\n",
    "elif target_model == 'gptl':\n",
    "    model_name = 'gpt2-large'\n",
    "elif target_model == 'gptxl':\n",
    "    model_name = 'gpt2-xl'\n",
    "elif target_model.split('_')[0] == '100M':\n",
    "    model_name = 'models/' + target_model + '/checkpoint-' + checkpoint\n",
    "model = scorer.IncrementalLMScorer(model_name, 'cuda')"
   ]
  },
  {
   "cell_type": "code",
   "execution_count": 112,
   "metadata": {},
   "outputs": [],
   "source": [
    "test_sentences = pd.read_csv(\"wider_pairs.csv\")\n",
    "do_sentences = test_sentences['DOsentence'].tolist()\n",
    "pd_sentences = test_sentences['PDsentence'].tolist()"
   ]
  },
  {
   "cell_type": "code",
   "execution_count": 113,
   "metadata": {},
   "outputs": [],
   "source": [
    "test_sentences['DO_score'] = model.sequence_score(do_sentences, reduction = lambda x: x.mean(0).item())\n",
    "test_sentences['PD_score'] = model.sequence_score(pd_sentences, reduction = lambda x: x.mean(0).item())"
   ]
  },
  {
   "cell_type": "code",
   "execution_count": 114,
   "metadata": {},
   "outputs": [],
   "source": [
    "test_sentences['diff'] = test_sentences['PD_score'] - test_sentences['DO_score']\n",
    "test_sentences.to_csv(f'wider_pairs_scored_{target_model}_minicons.csv')"
   ]
  }
 ],
 "metadata": {
  "kernelspec": {
   "display_name": "env",
   "language": "python",
   "name": "python3"
  },
  "language_info": {
   "codemirror_mode": {
    "name": "ipython",
    "version": 3
   },
   "file_extension": ".py",
   "mimetype": "text/x-python",
   "name": "python",
   "nbconvert_exporter": "python",
   "pygments_lexer": "ipython3",
   "version": "3.11.4"
  }
 },
 "nbformat": 4,
 "nbformat_minor": 2
}
